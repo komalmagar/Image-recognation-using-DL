{
  "nbformat": 4,
  "nbformat_minor": 0,
  "metadata": {
    "colab": {
      "name": "Prcatical3(DL).ipynb",
      "provenance": [],
      "collapsed_sections": [],
      "authorship_tag": "ABX9TyMQ4w53ZmPp29+ZhUQilCuI",
      "include_colab_link": true
    },
    "kernelspec": {
      "name": "python3",
      "display_name": "Python 3"
    }
  },
  "cells": [
    {
      "cell_type": "markdown",
      "metadata": {
        "id": "view-in-github",
        "colab_type": "text"
      },
      "source": [
        "<a href=\"https://colab.research.google.com/github/komalmagar/Image-recognation-using-DL/blob/main/Prcatical3(DL).ipynb\" target=\"_parent\"><img src=\"https://colab.research.google.com/assets/colab-badge.svg\" alt=\"Open In Colab\"/></a>"
      ]
    },
    {
      "cell_type": "code",
      "metadata": {
        "id": "onlFPz36RN4x"
      },
      "source": [
        "import numpy as np\r\n",
        "from keras.layers import Input, Dense\r\n",
        "from keras.models import Model\r\n",
        "from keras.datasets import mnist  #To import dataset\r\n",
        "import matplotlib.pyplot as plt  ## for ploting data on graph\r\n",
        "from sklearn.model_selection import KFold\r\n",
        "from sklearn.model_selection import cross_val_score"
      ],
      "execution_count": 28,
      "outputs": []
    },
    {
      "cell_type": "code",
      "metadata": {
        "id": "EM25283HRdzT"
      },
      "source": [
        "encoding_dim = 32 # size of inpute data n float\r\n",
        "input_img = Input(shape=(784,)) ## size of input placeholder\r\n",
        "encoded = Dense(encoding_dim, activation='relu')(input_img)# representation for input\r\n",
        "decoded = Dense(784, activation='sigmoid')(encoded)# decodation for output \r\n",
        "autoencoder = Model(input_img, decoded)## modeling the data\r\n",
        "encoder = Model(input_img, encoded)  ## map input to desired output\r\n",
        "encoded_input = Input(shape=(encoding_dim,))## place holder for input\r\n",
        "decoder_layer = autoencoder.layers[-1] ## get has row data by using [-1]\r\n",
        "decoder = Model(encoded_input, decoder_layer(encoded_input))# creating decoding model\r\n",
        "autoencoder.compile(optimizer='adam', loss='binary_crossentropy') #Compiling model\r\n"
      ],
      "execution_count": 45,
      "outputs": []
    },
    {
      "cell_type": "code",
      "metadata": {
        "colab": {
          "base_uri": "https://localhost:8080/"
        },
        "id": "L3sUmGwlRjow",
        "outputId": "77b7a765-6a0d-40aa-8c3c-8df96a419516"
      },
      "source": [
        "(x_train, _), (x_test, _) = mnist.load_data()  ##loading data\r\n",
        "x_train = x_train.astype('float32') / 255.# normalise all value between 0 and 1\r\n",
        "x_test = x_test.astype('float32') / 255.\r\n",
        "x_train = x_train.reshape((len(x_train), np.prod(x_train.shape[1:])))\r\n",
        "x_test = x_test.reshape((len(x_test), np.prod(x_test.shape[1:])))\r\n",
        "print (x_train.shape)\r\n",
        "print (x_test.shape)\r\n"
      ],
      "execution_count": 46,
      "outputs": [
        {
          "output_type": "stream",
          "text": [
            "(60000, 784)\n",
            "(10000, 784)\n"
          ],
          "name": "stdout"
        }
      ]
    },
    {
      "cell_type": "code",
      "metadata": {
        "colab": {
          "base_uri": "https://localhost:8080/"
        },
        "id": "84UegdSaRj_n",
        "outputId": "843f7d0c-b19b-4046-f0ff-6f3c0c061e90"
      },
      "source": [
        "autoencoder.fit(x_train, x_train,epochs=60,batch_size=256,shuffle=True,validation_data=(x_test, x_test))# FITTING THE MODEL with 50 iterations to update the weights for test data\r\n",
        "cv = KFold(n_splits=10, random_state=1, shuffle=True)\r\n",
        "encoded_imgs = encoder.predict(x_test)# encoding image for test data \r\n",
        "decoded_imgs = decoder.predict(encoded_imgs)# decoding for test data"
      ],
      "execution_count": 47,
      "outputs": [
        {
          "output_type": "stream",
          "text": [
            "Epoch 1/60\n",
            "235/235 [==============================] - 3s 13ms/step - loss: 0.3848 - val_loss: 0.1867\n",
            "Epoch 2/60\n",
            "235/235 [==============================] - 3s 12ms/step - loss: 0.1775 - val_loss: 0.1522\n",
            "Epoch 3/60\n",
            "235/235 [==============================] - 3s 12ms/step - loss: 0.1488 - val_loss: 0.1344\n",
            "Epoch 4/60\n",
            "235/235 [==============================] - 3s 12ms/step - loss: 0.1324 - val_loss: 0.1219\n",
            "Epoch 5/60\n",
            "235/235 [==============================] - 3s 12ms/step - loss: 0.1210 - val_loss: 0.1136\n",
            "Epoch 6/60\n",
            "235/235 [==============================] - 3s 12ms/step - loss: 0.1132 - val_loss: 0.1077\n",
            "Epoch 7/60\n",
            "235/235 [==============================] - 3s 12ms/step - loss: 0.1080 - val_loss: 0.1034\n",
            "Epoch 8/60\n",
            "235/235 [==============================] - 3s 12ms/step - loss: 0.1039 - val_loss: 0.1002\n",
            "Epoch 9/60\n",
            "235/235 [==============================] - 3s 12ms/step - loss: 0.1008 - val_loss: 0.0977\n",
            "Epoch 10/60\n",
            "235/235 [==============================] - 3s 12ms/step - loss: 0.0984 - val_loss: 0.0959\n",
            "Epoch 11/60\n",
            "235/235 [==============================] - 3s 12ms/step - loss: 0.0968 - val_loss: 0.0948\n",
            "Epoch 12/60\n",
            "235/235 [==============================] - 3s 12ms/step - loss: 0.0958 - val_loss: 0.0940\n",
            "Epoch 13/60\n",
            "235/235 [==============================] - 3s 12ms/step - loss: 0.0951 - val_loss: 0.0936\n",
            "Epoch 14/60\n",
            "235/235 [==============================] - 3s 12ms/step - loss: 0.0946 - val_loss: 0.0932\n",
            "Epoch 15/60\n",
            "235/235 [==============================] - 3s 12ms/step - loss: 0.0944 - val_loss: 0.0929\n",
            "Epoch 16/60\n",
            "235/235 [==============================] - 3s 12ms/step - loss: 0.0939 - val_loss: 0.0927\n",
            "Epoch 17/60\n",
            "235/235 [==============================] - 3s 12ms/step - loss: 0.0940 - val_loss: 0.0925\n",
            "Epoch 18/60\n",
            "235/235 [==============================] - 3s 12ms/step - loss: 0.0937 - val_loss: 0.0924\n",
            "Epoch 19/60\n",
            "235/235 [==============================] - 3s 12ms/step - loss: 0.0936 - val_loss: 0.0923\n",
            "Epoch 20/60\n",
            "235/235 [==============================] - 3s 12ms/step - loss: 0.0936 - val_loss: 0.0922\n",
            "Epoch 21/60\n",
            "235/235 [==============================] - 3s 12ms/step - loss: 0.0933 - val_loss: 0.0921\n",
            "Epoch 22/60\n",
            "235/235 [==============================] - 3s 12ms/step - loss: 0.0935 - val_loss: 0.0921\n",
            "Epoch 23/60\n",
            "235/235 [==============================] - 3s 12ms/step - loss: 0.0933 - val_loss: 0.0920\n",
            "Epoch 24/60\n",
            "235/235 [==============================] - 3s 12ms/step - loss: 0.0932 - val_loss: 0.0919\n",
            "Epoch 25/60\n",
            "235/235 [==============================] - 3s 12ms/step - loss: 0.0933 - val_loss: 0.0919\n",
            "Epoch 26/60\n",
            "235/235 [==============================] - 3s 12ms/step - loss: 0.0929 - val_loss: 0.0919\n",
            "Epoch 27/60\n",
            "235/235 [==============================] - 3s 12ms/step - loss: 0.0930 - val_loss: 0.0919\n",
            "Epoch 28/60\n",
            "235/235 [==============================] - 3s 12ms/step - loss: 0.0929 - val_loss: 0.0918\n",
            "Epoch 29/60\n",
            "235/235 [==============================] - 3s 13ms/step - loss: 0.0930 - val_loss: 0.0918\n",
            "Epoch 30/60\n",
            "235/235 [==============================] - 3s 12ms/step - loss: 0.0930 - val_loss: 0.0918\n",
            "Epoch 31/60\n",
            "235/235 [==============================] - 3s 12ms/step - loss: 0.0930 - val_loss: 0.0918\n",
            "Epoch 32/60\n",
            "235/235 [==============================] - 3s 12ms/step - loss: 0.0930 - val_loss: 0.0918\n",
            "Epoch 33/60\n",
            "235/235 [==============================] - 3s 12ms/step - loss: 0.0928 - val_loss: 0.0917\n",
            "Epoch 34/60\n",
            "235/235 [==============================] - 3s 12ms/step - loss: 0.0927 - val_loss: 0.0917\n",
            "Epoch 35/60\n",
            "235/235 [==============================] - 3s 12ms/step - loss: 0.0925 - val_loss: 0.0918\n",
            "Epoch 36/60\n",
            "235/235 [==============================] - 3s 12ms/step - loss: 0.0928 - val_loss: 0.0917\n",
            "Epoch 37/60\n",
            "235/235 [==============================] - 3s 12ms/step - loss: 0.0927 - val_loss: 0.0917\n",
            "Epoch 38/60\n",
            "235/235 [==============================] - 3s 12ms/step - loss: 0.0927 - val_loss: 0.0916\n",
            "Epoch 39/60\n",
            "235/235 [==============================] - 3s 12ms/step - loss: 0.0927 - val_loss: 0.0916\n",
            "Epoch 40/60\n",
            "235/235 [==============================] - 3s 12ms/step - loss: 0.0927 - val_loss: 0.0916\n",
            "Epoch 41/60\n",
            "235/235 [==============================] - 3s 12ms/step - loss: 0.0926 - val_loss: 0.0916\n",
            "Epoch 42/60\n",
            "235/235 [==============================] - 3s 12ms/step - loss: 0.0924 - val_loss: 0.0916\n",
            "Epoch 43/60\n",
            "235/235 [==============================] - 3s 12ms/step - loss: 0.0927 - val_loss: 0.0916\n",
            "Epoch 44/60\n",
            "235/235 [==============================] - 3s 12ms/step - loss: 0.0928 - val_loss: 0.0916\n",
            "Epoch 45/60\n",
            "235/235 [==============================] - 3s 12ms/step - loss: 0.0927 - val_loss: 0.0916\n",
            "Epoch 46/60\n",
            "235/235 [==============================] - 3s 12ms/step - loss: 0.0927 - val_loss: 0.0915\n",
            "Epoch 47/60\n",
            "235/235 [==============================] - 3s 12ms/step - loss: 0.0928 - val_loss: 0.0916\n",
            "Epoch 48/60\n",
            "235/235 [==============================] - 3s 12ms/step - loss: 0.0928 - val_loss: 0.0915\n",
            "Epoch 49/60\n",
            "235/235 [==============================] - 3s 12ms/step - loss: 0.0924 - val_loss: 0.0915\n",
            "Epoch 50/60\n",
            "235/235 [==============================] - 3s 12ms/step - loss: 0.0928 - val_loss: 0.0915\n",
            "Epoch 51/60\n",
            "235/235 [==============================] - 3s 12ms/step - loss: 0.0927 - val_loss: 0.0915\n",
            "Epoch 52/60\n",
            "235/235 [==============================] - 3s 12ms/step - loss: 0.0926 - val_loss: 0.0915\n",
            "Epoch 53/60\n",
            "235/235 [==============================] - 3s 12ms/step - loss: 0.0924 - val_loss: 0.0915\n",
            "Epoch 54/60\n",
            "235/235 [==============================] - 3s 12ms/step - loss: 0.0926 - val_loss: 0.0915\n",
            "Epoch 55/60\n",
            "235/235 [==============================] - 3s 12ms/step - loss: 0.0926 - val_loss: 0.0914\n",
            "Epoch 56/60\n",
            "235/235 [==============================] - 3s 12ms/step - loss: 0.0925 - val_loss: 0.0916\n",
            "Epoch 57/60\n",
            "235/235 [==============================] - 3s 12ms/step - loss: 0.0925 - val_loss: 0.0914\n",
            "Epoch 58/60\n",
            "235/235 [==============================] - 3s 12ms/step - loss: 0.0925 - val_loss: 0.0915\n",
            "Epoch 59/60\n",
            "235/235 [==============================] - 3s 12ms/step - loss: 0.0926 - val_loss: 0.0915\n",
            "Epoch 60/60\n",
            "235/235 [==============================] - 3s 12ms/step - loss: 0.0927 - val_loss: 0.0914\n"
          ],
          "name": "stdout"
        }
      ]
    },
    {
      "cell_type": "code",
      "metadata": {
        "colab": {
          "base_uri": "https://localhost:8080/",
          "height": 252
        },
        "id": "N03R-umjSi8A",
        "outputId": "c18f8ac7-5ff6-4cdf-c8f2-8fa6df5fa322"
      },
      "source": [
        "n = 2 # how many digits we will display\r\n",
        "plt.figure(figsize=(20, 4))\r\n",
        "for i in range(n):\r\n",
        "  ax=plt.subplot(2, n, i + 1)\r\n",
        "  plt.imshow(x_test[i].reshape(28, 28))\r\n",
        "  plt.gray()\r\n",
        "  ax.get_xaxis().set_visible(False)\r\n",
        "  ax.get_yaxis().set_visible(False)\r\n",
        "  ax=plt.subplot(2, n, i + 1 + n)\r\n",
        "  plt.imshow(decoded_imgs[i].reshape(28, 28))\r\n",
        "  plt.gray()\r\n",
        "  ax.get_xaxis().set_visible(False)\r\n",
        "  ax.get_yaxis().set_visible(False)\r\n",
        "plt.show()"
      ],
      "execution_count": 48,
      "outputs": [
        {
          "output_type": "display_data",
          "data": {
            "image/png": "[encoded data removed]",
            "text/plain": [
              "<Figure size 1440x288 with 4 Axes>"
            ]
          },
          "metadata": {
            "tags": [],
            "needs_background": "light"
          }
        }
      ]
    },
    {
      "cell_type": "markdown",
      "metadata": {
        "id": "XHWD0svuSjL2"
      },
      "source": [
        "from sklearn.metrics import mean_squared_error   ## we are finding error rate\r\n",
        "ms=mean_squared_error(x_test,decoded_imgs) \r\n",
        "MSE = np.square(np.subtract(x_test,decoded_imgs)).mean() \r\n",
        "MSE\r\n",
        "ms"
      ]
    },
    {
      "cell_type": "code",
      "metadata": {
        "colab": {
          "base_uri": "https://localhost:8080/"
        },
        "id": "kW_y_8fewUmj",
        "outputId": "1fd2db58-7668-45bf-d2ea-a07487e4af49"
      },
      "source": [
        "from sklearn.metrics import mean_squared_error ## we are finding error rate \r\n",
        "ms=mean_squared_error(x_test,decoded_imgs) \r\n",
        "MSE = np.square(np.subtract(x_test,decoded_imgs)).mean()\r\n",
        "MSE "
      ],
      "execution_count": 50,
      "outputs": [
        {
          "output_type": "execute_result",
          "data": {
            "text/plain": [
              "0.0095905885"
            ]
          },
          "metadata": {
            "tags": []
          },
          "execution_count": 50
        }
      ]
    },
    {
      "cell_type": "markdown",
      "metadata": {
        "id": "ToRu5uByyN_i"
      },
      "source": [
        "Difference Between \"adam- optimizer\" and \"adadelta-optimizer\"\r\n",
        "**adaM**-It uses both first order moment mtmt and 2nd order moment gtgt but they are both decayed over time \r\n",
        "\r\n",
        "```\r\n",
        "\r\n",
        "```\r\n",
        "\r\n",
        "\r\n",
        "**adaDelta**-AdaDelta also uses exponentially decaying average of gtgt which was our 2nd moment of gradient."
      ]
    }
  ]
}